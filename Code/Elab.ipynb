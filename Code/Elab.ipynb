{
 "cells": [
  {
   "cell_type": "markdown",
   "id": "aeaa628a",
   "metadata": {},
   "source": [
    "# My Recursive Function Exercise"
   ]
  },
  {
   "cell_type": "markdown",
   "id": "ce3565c9",
   "metadata": {},
   "source": [
    "#### 1.write a function printit(m, n) that will print  m,m+1,...,n,n-1,...,m"
   ]
  },
  {
   "cell_type": "markdown",
   "id": "f1b7b914",
   "metadata": {},
   "source": [
    "printit(3,6) \n",
    "\n",
    "#output 3456543"
   ]
  },
  {
   "cell_type": "code",
   "execution_count": 22,
   "id": "c8337c10",
   "metadata": {},
   "outputs": [],
   "source": [
    "def printit(m, n):\n",
    "    print(m,end='')\n",
    "    if m==n:\n",
    "        #return printit(m-1,n)\n",
    "        return m-1\n",
    "    elif m<n:\n",
    "        print(printit(m+1,n),end='')\n",
    "        return m-1"
   ]
  },
  {
   "cell_type": "code",
   "execution_count": 24,
   "id": "b90eb334",
   "metadata": {},
   "outputs": [
    {
     "name": "stdout",
     "output_type": "stream",
     "text": [
      "01234543210"
     ]
    },
    {
     "data": {
      "text/plain": [
       "-1"
      ]
     },
     "execution_count": 24,
     "metadata": {},
     "output_type": "execute_result"
    }
   ],
   "source": [
    "printit(0,5)"
   ]
  },
  {
   "cell_type": "markdown",
   "id": "a8f4eb42",
   "metadata": {},
   "source": [
    "#### 2.write function count_vowel(word) that will count 'aeiou' in word with upper and lower case"
   ]
  },
  {
   "cell_type": "markdown",
   "id": "17f325b8",
   "metadata": {},
   "source": [
    "count_vowel('hellO')\n",
    "\n",
    "#output 2"
   ]
  },
  {
   "cell_type": "code",
   "execution_count": 29,
   "id": "fea9cfdf",
   "metadata": {},
   "outputs": [],
   "source": [
    "def count_vowel(word):\n",
    "    if len(word) == 1:\n",
    "        if word[0].lower() in 'aeiou':\n",
    "            return 1\n",
    "        else:\n",
    "            return 0\n",
    "    else:\n",
    "        if word[0].lower() in 'aeiou':\n",
    "            return count_vowel(word[1:]) + 1\n",
    "        else:\n",
    "            return count_vowel(word[1:])\n",
    "        "
   ]
  },
  {
   "cell_type": "code",
   "execution_count": 34,
   "id": "fc1ffc0a",
   "metadata": {},
   "outputs": [
    {
     "data": {
      "text/plain": [
       "3"
      ]
     },
     "execution_count": 34,
     "metadata": {},
     "output_type": "execute_result"
    }
   ],
   "source": [
    "count_vowel('Hello WOrld')"
   ]
  },
  {
   "cell_type": "markdown",
   "id": "7b277f64",
   "metadata": {},
   "source": [
    "#### 3.write function tri(n) that will print triangle base n"
   ]
  },
  {
   "cell_type": "raw",
   "id": "ff4fe5d8",
   "metadata": {},
   "source": [
    "tri(2)\n",
    "x\n",
    "xx"
   ]
  },
  {
   "cell_type": "code",
   "execution_count": 60,
   "id": "8aef37d4",
   "metadata": {},
   "outputs": [],
   "source": [
    "def tri(n):\n",
    "    if n==1:\n",
    "        print('x')\n",
    "        return 1\n",
    "    else:\n",
    "        ok = tri(n-1) + 1\n",
    "        print('x'*ok)\n",
    "        return ok"
   ]
  },
  {
   "cell_type": "code",
   "execution_count": 61,
   "id": "2c5718db",
   "metadata": {},
   "outputs": [
    {
     "name": "stdout",
     "output_type": "stream",
     "text": [
      "x\n",
      "xx\n",
      "xxx\n"
     ]
    },
    {
     "data": {
      "text/plain": [
       "3"
      ]
     },
     "execution_count": 61,
     "metadata": {},
     "output_type": "execute_result"
    }
   ],
   "source": [
    "tri(3)"
   ]
  },
  {
   "cell_type": "markdown",
   "id": "4ca4212d",
   "metadata": {},
   "source": [
    "#### 4.write function count(word,ch,result) will count character in word that = ch"
   ]
  },
  {
   "cell_type": "raw",
   "id": "e43d82ad",
   "metadata": {},
   "source": [
    "count(\"aaa\", \"a\", 0)\n",
    "3"
   ]
  },
  {
   "cell_type": "code",
   "execution_count": 90,
   "id": "1afb7f67",
   "metadata": {},
   "outputs": [],
   "source": [
    "def count(word, ch, result):\n",
    "    if len(word) == 1:\n",
    "        if word[0] == ch:\n",
    "            return result + 1\n",
    "        else:\n",
    "            return result\n",
    "    else:\n",
    "        if word[0] == ch:\n",
    "            return count(word[1:],ch,result+1)\n",
    "        else:\n",
    "            return count(word[1:],ch,result)"
   ]
  },
  {
   "cell_type": "code",
   "execution_count": 94,
   "id": "e92c3153",
   "metadata": {},
   "outputs": [
    {
     "data": {
      "text/plain": [
       "1"
      ]
     },
     "execution_count": 94,
     "metadata": {},
     "output_type": "execute_result"
    }
   ],
   "source": [
    "count(\"abcdef\", \"b\", 0)"
   ]
  },
  {
   "cell_type": "code",
   "execution_count": 95,
   "id": "e8774c57",
   "metadata": {},
   "outputs": [
    {
     "data": {
      "text/plain": [
       "0"
      ]
     },
     "execution_count": 95,
     "metadata": {},
     "output_type": "execute_result"
    }
   ],
   "source": [
    "count(\"abababaab\", \"c\", 0)"
   ]
  },
  {
   "cell_type": "markdown",
   "id": "01b79c8c",
   "metadata": {},
   "source": [
    "#### 5.write function divnums(n, d) that return number from 0 to n that can divide by d"
   ]
  },
  {
   "cell_type": "raw",
   "id": "e6959600",
   "metadata": {},
   "source": [
    "divnums(100, 25)\n",
    "'25 50 75 100 '"
   ]
  },
  {
   "cell_type": "code",
   "execution_count": 109,
   "id": "c470ed90",
   "metadata": {},
   "outputs": [],
   "source": [
    "def divnums(n, d):\n",
    "    if n==d:\n",
    "        return str(d) + ' '\n",
    "    else:\n",
    "        if n%d==0:\n",
    "            return divnums(n-1, d)  + str(n) + ' '\n",
    "        else:\n",
    "            return divnums(n-1, d)"
   ]
  },
  {
   "cell_type": "code",
   "execution_count": 110,
   "id": "fd68be37",
   "metadata": {},
   "outputs": [
    {
     "data": {
      "text/plain": [
       "'3 6 9 '"
      ]
     },
     "execution_count": 110,
     "metadata": {},
     "output_type": "execute_result"
    }
   ],
   "source": [
    "divnums(10,3)"
   ]
  },
  {
   "cell_type": "markdown",
   "id": "d575f5b1",
   "metadata": {},
   "source": [
    "#### 6.write function that return the reverse string"
   ]
  },
  {
   "cell_type": "raw",
   "id": "ed4f7cae",
   "metadata": {},
   "source": [
    "reverse_string('hello')\n",
    "'olleh'"
   ]
  },
  {
   "cell_type": "code",
   "execution_count": 3,
   "id": "28311744",
   "metadata": {},
   "outputs": [],
   "source": [
    "def reverse_string(s):\n",
    "    if len(s) == 1:\n",
    "        return s\n",
    "    else:\n",
    "        return reverse_string(s[1:]) + s[0]"
   ]
  },
  {
   "cell_type": "code",
   "execution_count": 4,
   "id": "6f982e18",
   "metadata": {},
   "outputs": [
    {
     "data": {
      "text/plain": [
       "'olleh'"
      ]
     },
     "execution_count": 4,
     "metadata": {},
     "output_type": "execute_result"
    }
   ],
   "source": [
    "reverse_string('hello')"
   ]
  },
  {
   "cell_type": "markdown",
   "id": "7555e688",
   "metadata": {},
   "source": [
    "#### 7.write function is_palindrome(word) that will check if word is palindrome  return True    , else: False"
   ]
  },
  {
   "cell_type": "raw",
   "id": "704591ab",
   "metadata": {},
   "source": [
    "is_palindrome('redder')\n",
    "True"
   ]
  },
  {
   "cell_type": "code",
   "execution_count": 12,
   "id": "22347b70",
   "metadata": {},
   "outputs": [],
   "source": [
    "def is_palindrome(word):\n",
    "    if len(word) == 0 or len(word) == 1:\n",
    "        return True\n",
    "    else:\n",
    "        return word[0] == word[-1] and is_palindrome(word[1:-1])"
   ]
  },
  {
   "cell_type": "code",
   "execution_count": 13,
   "id": "0d2060b4",
   "metadata": {},
   "outputs": [
    {
     "data": {
      "text/plain": [
       "False"
      ]
     },
     "execution_count": 13,
     "metadata": {},
     "output_type": "execute_result"
    }
   ],
   "source": [
    "is_palindrome('ohl')"
   ]
  },
  {
   "cell_type": "markdown",
   "id": "3f9906c7",
   "metadata": {},
   "source": [
    "#### 8. write function count_even(lst) that will count all even number and return count"
   ]
  },
  {
   "cell_type": "raw",
   "id": "22e3d888",
   "metadata": {},
   "source": [
    "count_even([8])\n",
    "1"
   ]
  },
  {
   "cell_type": "code",
   "execution_count": 18,
   "id": "ee2b8ecc",
   "metadata": {},
   "outputs": [],
   "source": [
    "def count_even(lst):\n",
    "    if len(lst)==0:\n",
    "        return 0\n",
    "    if len(lst) == 1:\n",
    "        if lst[0] % 2 == 0:\n",
    "            return 1\n",
    "        else:\n",
    "            return 0\n",
    "    else:\n",
    "        if lst[0] % 2 == 0:\n",
    "            return count_even(lst[1:]) + 1\n",
    "        else:\n",
    "            return count_even(lst[1:])"
   ]
  },
  {
   "cell_type": "code",
   "execution_count": 19,
   "id": "b2089ab8",
   "metadata": {},
   "outputs": [
    {
     "data": {
      "text/plain": [
       "4"
      ]
     },
     "execution_count": 19,
     "metadata": {},
     "output_type": "execute_result"
    }
   ],
   "source": [
    "count_even([1,2,3,5,2,2,10])"
   ]
  },
  {
   "cell_type": "markdown",
   "id": "a84fa51b",
   "metadata": {},
   "source": [
    "#### 9.write function in_list(lst, x) that will check if x in lst return True else return False"
   ]
  },
  {
   "cell_type": "raw",
   "id": "7b39d425",
   "metadata": {},
   "source": [
    "in_list([1, 2, 3], 2)\n",
    "True"
   ]
  },
  {
   "cell_type": "code",
   "execution_count": 20,
   "id": "fcebb480",
   "metadata": {},
   "outputs": [],
   "source": [
    "def in_list(lst, x):\n",
    "    if len(lst)==1 and lst[0]!=x:\n",
    "        return False\n",
    "    if lst[0] == x:\n",
    "        return True\n",
    "    else:\n",
    "        return in_list(lst[1:],x)"
   ]
  },
  {
   "cell_type": "code",
   "execution_count": 21,
   "id": "0d97ce4f",
   "metadata": {},
   "outputs": [
    {
     "data": {
      "text/plain": [
       "False"
      ]
     },
     "execution_count": 21,
     "metadata": {},
     "output_type": "execute_result"
    }
   ],
   "source": [
    "in_list([1, 2, 3], 8)"
   ]
  },
  {
   "cell_type": "code",
   "execution_count": 22,
   "id": "50d61306",
   "metadata": {},
   "outputs": [
    {
     "data": {
      "text/plain": [
       "True"
      ]
     },
     "execution_count": 22,
     "metadata": {},
     "output_type": "execute_result"
    }
   ],
   "source": [
    "in_list(['a', 'b', 'c'], 'a')"
   ]
  },
  {
   "cell_type": "markdown",
   "id": "c047361f",
   "metadata": {},
   "source": [
    "#### 10.write function that will find root 3 by newton method"
   ]
  },
  {
   "cell_type": "code",
   "execution_count": null,
   "id": "2dd16759",
   "metadata": {},
   "outputs": [],
   "source": [
    "def newton_cuberoot(x,y):\n",
    "    if abs(x**3-y)<=10**-6:\n",
    "        return x\n",
    "    roo = ((y/(x**2))+(2*x))/3\n",
    "    if abs(roo**3-y)<=10**-6:\n",
    "        return roo\n",
    "    else:\n",
    "        return newton_cuberoot(roo,y)"
   ]
  },
  {
   "cell_type": "markdown",
   "id": "05fd0c93",
   "metadata": {},
   "source": [
    "#### 11.write function sumsquare(n) that will return sum of 1 + 2^2 ... + n^n"
   ]
  },
  {
   "cell_type": "code",
   "execution_count": 1,
   "id": "405d02be",
   "metadata": {},
   "outputs": [],
   "source": [
    "def sum_square(n):\n",
    "    if n==1:\n",
    "        return 1\n",
    "    else:\n",
    "        return n**2 + sum_square(n-1)"
   ]
  },
  {
   "cell_type": "code",
   "execution_count": 4,
   "id": "8934479f",
   "metadata": {},
   "outputs": [
    {
     "data": {
      "text/plain": [
       "1"
      ]
     },
     "execution_count": 4,
     "metadata": {},
     "output_type": "execute_result"
    }
   ],
   "source": [
    "sum_square(1)"
   ]
  },
  {
   "cell_type": "markdown",
   "id": "ea91942c",
   "metadata": {},
   "source": [
    "#### 13.write function differentiate(f) that will return diff value at f(x)"
   ]
  },
  {
   "cell_type": "code",
   "execution_count": 5,
   "id": "eb657f63",
   "metadata": {},
   "outputs": [],
   "source": [
    "def differentiate(k_f):\n",
    "    return lambda x: (k_f(x+0.00001) - k_f(x))/0.00001"
   ]
  },
  {
   "cell_type": "code",
   "execution_count": 11,
   "id": "6bbcfa45",
   "metadata": {},
   "outputs": [],
   "source": [
    "g = differentiate(lambda x: x**2)"
   ]
  },
  {
   "cell_type": "code",
   "execution_count": 14,
   "id": "b290ddc9",
   "metadata": {
    "scrolled": true
   },
   "outputs": [
    {
     "data": {
      "text/plain": [
       "4.000010000027032"
      ]
     },
     "execution_count": 14,
     "metadata": {},
     "output_type": "execute_result"
    }
   ],
   "source": [
    "g(2)"
   ]
  },
  {
   "cell_type": "markdown",
   "id": "68d5ce89",
   "metadata": {},
   "source": [
    "#### 14.write function power(n, k) that will return n**k"
   ]
  },
  {
   "cell_type": "code",
   "execution_count": 1,
   "id": "0f3d3ffe",
   "metadata": {},
   "outputs": [],
   "source": [
    "def power(n,k):\n",
    "    if k==0:\n",
    "        return 1\n",
    "    if k==1:\n",
    "        return n\n",
    "    else:\n",
    "        return power(n,k-1) * n"
   ]
  },
  {
   "cell_type": "code",
   "execution_count": 5,
   "id": "fa1a92c0",
   "metadata": {},
   "outputs": [
    {
     "data": {
      "text/plain": [
       "36"
      ]
     },
     "execution_count": 5,
     "metadata": {},
     "output_type": "execute_result"
    }
   ],
   "source": [
    "power(6,2)"
   ]
  },
  {
   "cell_type": "markdown",
   "id": "568d754a",
   "metadata": {},
   "source": [
    "#### 15.write function flatten_list(lst)"
   ]
  },
  {
   "cell_type": "code",
   "execution_count": 2,
   "id": "53fe229a",
   "metadata": {},
   "outputs": [],
   "source": [
    "def flatten_list(list_of_lists, flat_list=[]):\n",
    "        for item in list_of_lists:\n",
    "            if type(item) == list:\n",
    "                flatten_list(item)\n",
    "            else:\n",
    "                flat_list.append(item)\n",
    "    \n",
    "        return flat_list"
   ]
  },
  {
   "cell_type": "code",
   "execution_count": 3,
   "id": "2c3bb2e4",
   "metadata": {},
   "outputs": [
    {
     "data": {
      "text/plain": [
       "[1, 3, 5, 7]"
      ]
     },
     "execution_count": 3,
     "metadata": {},
     "output_type": "execute_result"
    }
   ],
   "source": [
    "flatten_list([1,3,5,7])"
   ]
  },
  {
   "cell_type": "code",
   "execution_count": 4,
   "id": "6ab9f381",
   "metadata": {},
   "outputs": [
    {
     "data": {
      "text/plain": [
       "[1, 3, 5, 7, 1, 2, 2, 3, 4, 5, 4, 3, 4]"
      ]
     },
     "execution_count": 4,
     "metadata": {},
     "output_type": "execute_result"
    }
   ],
   "source": [
    "flatten_list([1, 2, [[2], [3, 4], 5], 4, [3], [[4]]])"
   ]
  }
 ],
 "metadata": {
  "kernelspec": {
   "display_name": "Python 3 (ipykernel)",
   "language": "python",
   "name": "python3"
  },
  "language_info": {
   "codemirror_mode": {
    "name": "ipython",
    "version": 3
   },
   "file_extension": ".py",
   "mimetype": "text/x-python",
   "name": "python",
   "nbconvert_exporter": "python",
   "pygments_lexer": "ipython3",
   "version": "3.9.13"
  }
 },
 "nbformat": 4,
 "nbformat_minor": 5
}
