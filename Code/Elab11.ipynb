{
 "cells": [
  {
   "cell_type": "markdown",
   "id": "6a330493",
   "metadata": {},
   "source": [
    "## 1.Bank Account"
   ]
  },
  {
   "cell_type": "code",
   "execution_count": null,
   "id": "08978e39",
   "metadata": {},
   "outputs": [],
   "source": [
    "class BankAccount():\n",
    "    def __init__(self,acid='',balance=0.0):\n",
    "        self.__acid = acid\n",
    "        self.__balance = balance\n",
    "\n",
    "    def get_account_ID(self):\n",
    "        return self.__acid\n",
    "\n",
    "    def set_account_ID(self,newID):\n",
    "        self.__acid = newID    \n",
    "\n",
    "    def get_balance(self):\n",
    "        return self.__balance\n",
    "\n",
    "    def set_balance(self, new_balance):\n",
    "        self.__balance = new_balance\n",
    "\n",
    "    def deposit(self, amount):\n",
    "        self.__balance+=amount\n",
    "\n",
    "    def withdrawal(self, amount):\n",
    "        self.__balance -= amount\n",
    "    def __str__(self):\n",
    "        return f\"ID: {self.__acid}, Balance: {self.__balance:.2f}\""
   ]
  },
  {
   "cell_type": "markdown",
   "id": "ef9cb97d",
   "metadata": {},
   "source": [
    "## 2.Radio"
   ]
  },
  {
   "cell_type": "code",
   "execution_count": null,
   "id": "2ee20f45",
   "metadata": {},
   "outputs": [],
   "source": [
    "class Radio():\n",
    "    def __init__(self,mode='FM',freq=87.5):\n",
    "        self.__mode = mode\n",
    "        self.__freq = freq\n",
    "          \n",
    "    def set_frequency(self,new_freq):\n",
    "        if self.__mode == 'FM':\n",
    "            if new_freq<=108 and new_freq>=87.5:\n",
    "                self.__freq= new_freq\n",
    "        if self.__mode == 'AM':\n",
    "            if new_freq<=280 and new_freq>=150:\n",
    "                self.__freq = new_freq\n",
    "\n",
    "    def set_mode(self,new_mode):\n",
    "        self.__mode = new_mode\n",
    "        if new_mode == 'FM':\n",
    "            self.__freq=87.5\n",
    "        elif new_mode == 'AM':\n",
    "            self.__freq = 150\n",
    "\n",
    "    def adjust_frequency(self,x):\n",
    "        new_freq = self.__freq + x\n",
    "        self.set_frequency(new_freq)\n",
    "        if self.__freq == new_freq:\n",
    "            return True\n",
    "        else:\n",
    "            return False\n",
    "\n",
    "    def get_mode(self):\n",
    "        return self.__mode\n",
    "    def get_frequency(self):\n",
    "        return self.__freq\n",
    "\n",
    "    def __str__(self):\n",
    "        if self.__mode == 'FM':\n",
    "            return f\"{self.__mode} Radio: {self.__freq:.1f} MHz\"\n",
    "        elif self.__mode == 'AM':\n",
    "            return f\"{self.__mode} Radio: {self.__freq:.1f} kHz\"\n"
   ]
  },
  {
   "cell_type": "markdown",
   "id": "5d122b2e",
   "metadata": {},
   "source": [
    "## 3.Classroom"
   ]
  },
  {
   "cell_type": "code",
   "execution_count": null,
   "id": "3c18614a",
   "metadata": {},
   "outputs": [],
   "source": [
    "class ClassRoom():\n",
    "    def __init__(self,grade=0,home_room_teacher=''):\n",
    "        self.__grade = grade\n",
    "        self.__home_room_teacher = home_room_teacher\n",
    "        self.__stulist = []\n",
    "        self.__numStudents = 0\n",
    "\n",
    "    def get_student_no(self,n):\n",
    "        return self.__stulist[n-1]\n",
    "    def set_grade(self,new_grade):\n",
    "        self.__grade = new_grade\n",
    "    def set_homeroom_teacher(self,new_tea):\n",
    "        self.__home_room_teacher = new_tea\n",
    "    def set_student_list(self,new_list):\n",
    "        self.__stulist = new_list\n",
    "    def set_num_student(self,n):\n",
    "        self.__numStudents = n\n",
    "    def get_grade(self):\n",
    "        return self.__grade\n",
    "    def get_homeroom_teacher(self):\n",
    "        return self.__home_room_teacher\n",
    "    def get_student_list(self):\n",
    "        return self.__stulist\n",
    "    def get_num_student(self):\n",
    "        return self.__numStudents\n",
    "\n",
    "    def add_student(self,student_name):\n",
    "        if len(self.__stulist) <= 9:\n",
    "            self.__stulist.append(student_name)\n",
    "            self.__numStudents+=1\n",
    "            return True\n",
    "        else:\n",
    "            return False\n",
    "    def change_student(self,n,new_name):\n",
    "        if len(self.__stulist) >= n and n>0:\n",
    "            self.__stulist[n-1] = new_name\n",
    "            return True\n",
    "        else:\n",
    "            return False\n",
    "    def remove_student(self,student_name):\n",
    "        if student_name in self.__stulist:\n",
    "            del self.__stulist[self.__stulist.index(student_name)]\n",
    "            self.__numStudents-=1\n",
    "            return True\n",
    "        else:\n",
    "            return False\n",
    "    def remove_student_no(self,n):\n",
    "        if len(self.__stulist) >= n and n>0:\n",
    "            del self.__stulist[n-1]\n",
    "            self.__numStudents-=1\n",
    "            return True\n",
    "        else:\n",
    "            return False\n",
    "\n",
    "    def __str__(self):\n",
    "        return f'''Grade: {self.__grade}\n",
    "Homeroom Teacher: {self.__home_room_teacher}\n",
    "Students: {','.join(self.__stulist)}'''"
   ]
  },
  {
   "cell_type": "markdown",
   "id": "b6acca7d",
   "metadata": {},
   "source": [
    "## 4.Light and Switch"
   ]
  },
  {
   "cell_type": "markdown",
   "id": "27378a85",
   "metadata": {},
   "source": [
    "### Switch"
   ]
  },
  {
   "cell_type": "code",
   "execution_count": null,
   "id": "0ed26bb9",
   "metadata": {},
   "outputs": [],
   "source": [
    "class Switch():\n",
    "    def __init__(self,name='',status=False):\n",
    "        self.name = name\n",
    "        self.status = status\n",
    "        \n",
    "\n",
    "    def turn(self):\n",
    "        self.status = not(self.status)\n",
    "    \n",
    "    def clone(self):\n",
    "        name = self.name + \".copy\"\n",
    "        status = self.status\n",
    "        new_obj = Switch(name,status)\n",
    "        return new_obj\n",
    "\n",
    "    def __str__(self):\n",
    "        sta = 'on' if self.status else 'off'\n",
    "        return f\"switch({self.name}) is {sta}\""
   ]
  },
  {
   "cell_type": "markdown",
   "id": "1c826cc1",
   "metadata": {},
   "source": [
    "### Light"
   ]
  },
  {
   "cell_type": "code",
   "execution_count": null,
   "id": "ad8a8756",
   "metadata": {},
   "outputs": [],
   "source": [
    "class Light():\n",
    "    def __init__(self,name='',switch=Switch()):\n",
    "        self.name = name\n",
    "        self.switch =switch\n",
    "\n",
    "    def turn(self):\n",
    "        self.switch.status = not(self.switch.status)\n",
    "    \n",
    "    def get_status(self):\n",
    "        return (self.switch).status\n",
    "\n",
    "    def set_switch(self,new_switch):\n",
    "        self.switch = new_switch\n",
    "\n",
    "    def clone(self):\n",
    "        name = self.name + \".copy\"\n",
    "        switch = self.switch.clone()\n",
    "        new_obj = Light(name,switch)\n",
    "        return new_obj\n",
    "\n",
    "    def __str__(self):\n",
    "        sta = 'on' if self.switch.status else 'off'\n",
    "        return f\"light({self.name}) with \" + f\"switch({self.switch.name}) is {sta}\"\n"
   ]
  },
  {
   "cell_type": "markdown",
   "id": "795fca28",
   "metadata": {},
   "source": [
    "## 5.Faction"
   ]
  },
  {
   "cell_type": "code",
   "execution_count": null,
   "id": "62123434",
   "metadata": {},
   "outputs": [],
   "source": [
    "class Fraction():\n",
    "    ONE = 1\n",
    "    ZERO = 0/1\n",
    "    def __init__(self,numerator=0,denominator=1):\n",
    "        self.numerator = numerator\n",
    "        self.denominator = denominator\n",
    "        pass\n",
    "\n",
    "    def __add__(self,n):\n",
    "        if isinstance(n,int):\n",
    "            numerator = self.numerator + (n*self.denominator)\n",
    "            return Fraction(numerator,self.denominator)\n",
    "        elif isinstance(n,Fraction):\n",
    "            numerator = (self.numerator*n.denominator) + (n.numerator*self.denominator)\n",
    "            denominator = n.denominator*self.denominator\n",
    "            return Fraction(numerator,denominator)\n",
    "    \n",
    "    def add(self,n):\n",
    "        if isinstance(n,int):\n",
    "            numerator = self.numerator + (n*self.denominator)\n",
    "            return Fraction(numerator,self.denominator)\n",
    "        elif isinstance(n,Fraction):\n",
    "            numerator = (self.numerator*n.denominator) + (n.numerator*self.denominator)\n",
    "            denominator = n.denominator*self.denominator\n",
    "            return Fraction(numerator,denominator)\n",
    "    \n",
    "    def evaluate(self):\n",
    "        val = float(f'{(self.numerator / self.denominator):.2f}')\n",
    "        return val\n",
    "    \n",
    "    def __mul__(self,n):\n",
    "        if isinstance(n,int):\n",
    "            numerator = self.numerator*n\n",
    "            return Fraction(numerator,self.denominator)\n",
    "        elif isinstance(n,Fraction):\n",
    "            numerator = self.numerator*n.numerator\n",
    "            denominator = self.denominator*n.denominator\n",
    "            return Fraction(numerator,denominator)\n",
    "\n",
    "    def multiply(self,n):\n",
    "        if isinstance(n,int):\n",
    "            numerator = self.numerator*n\n",
    "            return Fraction(numerator,self.denominator)\n",
    "        elif isinstance(n,Fraction):\n",
    "            numerator = self.numerator*n.numerator\n",
    "            denominator = self.denominator*n.denominator\n",
    "            return Fraction(numerator,denominator)\n",
    "    \n",
    "    def toString(self):\n",
    "        nu = self.numerator\n",
    "        do = self.denominator\n",
    "        s = f'{nu}/{do}'\n",
    "        return s\n",
    "    \n",
    "    def __str__(self):\n",
    "        nu = self.numerator\n",
    "        do = self.denominator\n",
    "        s = f'{nu}/{do}'\n",
    "        return s"
   ]
  },
  {
   "cell_type": "markdown",
   "id": "38f49e89",
   "metadata": {},
   "source": [
    "## 6.Cylinder"
   ]
  },
  {
   "cell_type": "code",
   "execution_count": null,
   "id": "3f0e5beb",
   "metadata": {},
   "outputs": [],
   "source": [
    "class Cylinder:"
   ]
  },
  {
   "cell_type": "code",
   "execution_count": null,
   "id": "c72bf84e",
   "metadata": {},
   "outputs": [],
   "source": [
    "def __init__(self,r=0.0,h=0.0):\n",
    "        self.__radius = r\n",
    "        self.__height = h"
   ]
  },
  {
   "cell_type": "code",
   "execution_count": null,
   "id": "2074ccf0",
   "metadata": {},
   "outputs": [],
   "source": [
    "def get_radius(self):\n",
    "        return self.__radius"
   ]
  },
  {
   "cell_type": "code",
   "execution_count": null,
   "id": "ff012767",
   "metadata": {},
   "outputs": [],
   "source": [
    "def get_height(self):\n",
    "        return self.__height"
   ]
  },
  {
   "cell_type": "code",
   "execution_count": null,
   "id": "da26345f",
   "metadata": {},
   "outputs": [],
   "source": [
    "def set_radius(self,new_radius):\n",
    "        self.__radius = new_radius"
   ]
  },
  {
   "cell_type": "code",
   "execution_count": null,
   "id": "35000bb1",
   "metadata": {},
   "outputs": [],
   "source": [
    "def set_height(self,new_height):\n",
    "        self.__height = new_height"
   ]
  },
  {
   "cell_type": "code",
   "execution_count": null,
   "id": "d9decf63",
   "metadata": {},
   "outputs": [],
   "source": [
    "def get_base_area(self):\n",
    "        return math.pi*self.__radius**2"
   ]
  },
  {
   "cell_type": "code",
   "execution_count": null,
   "id": "c8d5e9b1",
   "metadata": {},
   "outputs": [],
   "source": [
    "def get_volume(self):\n",
    "        return (self.__radius**2) * self.__height * math.pi"
   ]
  },
  {
   "cell_type": "code",
   "execution_count": null,
   "id": "b9dfed6d",
   "metadata": {},
   "outputs": [],
   "source": [
    "def __str__(self):\n",
    "        return f\"Radius: {self.__radius:.3f}, Height: {self.__height:.3f}\""
   ]
  },
  {
   "cell_type": "markdown",
   "id": "7e4cde72",
   "metadata": {},
   "source": [
    "## 7.Line"
   ]
  },
  {
   "cell_type": "code",
   "execution_count": null,
   "id": "3a882cdd",
   "metadata": {},
   "outputs": [],
   "source": [
    "class Line():\n",
    "    def __init__(self,x1,y1,x2,y2):\n",
    "        self.__x1 = x1\n",
    "        self.__y1 = y1\n",
    "        self.__x2 = x2\n",
    "        self.__y2 = y2\n",
    "        self.__startpoint = (x1,y1)\n",
    "        self.__end_point = (x2,y2)\n",
    "        self.__slope = (y2 - y1) / (x2 - x1)\n",
    "        self.__c = y2-(self.__slope*x2)\n",
    "    \n",
    "    def contains(self,x,y):\n",
    "        if y == (self.__slope * x)+self.__c and self.__x1<=x<=self.__x2 or self.__x2<=x<=self.__x1:\n",
    "            if self.__y1<=y<=self.__y2 or y in self.__y2<=y<=self.__y1:\n",
    "                return True\n",
    "        return False\n",
    "    \n",
    "    def get_distance(self):\n",
    "        dis = ((self.__startpoint[0]-self.__end_point[0])**2 + (self.__startpoint[1]-self.__end_point[1])**2)**0.5\n",
    "        return dis\n",
    "\n",
    "    def get_x1(self):\n",
    "        return self.__startpoint[0]\n",
    "    def get_y1(self):\n",
    "        return self.__startpoint[1]\n",
    "    def get_x2(self):\n",
    "        return self.__end_point[0]\n",
    "    def get_y2(self):\n",
    "        return self.__end_point[1]\n",
    "\n",
    "    def getY(self, x):\n",
    "        y = (self.__slope * x)+self.__c\n",
    "        if self.contains(x,y):\n",
    "            return y\n",
    "        return -999.999"
   ]
  },
  {
   "cell_type": "markdown",
   "id": "dda990e6",
   "metadata": {},
   "source": [
    "## 7.2Lineapp"
   ]
  },
  {
   "cell_type": "code",
   "execution_count": null,
   "id": "c6b45d86",
   "metadata": {},
   "outputs": [],
   "source": [
    "class LineApp():\n",
    "  x1 = float(input('Enter x1 : '))\n",
    "  y1 = float(input('Enter y1 : '))\n",
    "  x2 = float(input('Enter x2 : '))\n",
    "  y2 = float(input('Enter y2 : '))\n",
    "  line = Line(x1,y1,x2,y2)\n",
    "  print(f'value of x1 on this line is {line.get_x1():.3f}')\n",
    "  print(f'value of x2 on this line is {line.get_x2():.3f}')\n",
    "  print(f'value of y1 on this line is {line.get_y1():.3f}')\n",
    "  print(f'value of y2 on this line is {line.get_y2():.3f}')\n",
    "  print('==========')\n",
    "  print('Check x and y are on this line ?')\n",
    "  x_ch = float(input('Enter x : '))\n",
    "  y_ch = float(input('Enter y : '))\n",
    "  if line.contains(x_ch,y_ch):\n",
    "    print(f'x = {x_ch:.3f} and y = {y_ch:.3f} are on this line')\n",
    "  else:\n",
    "    print(f'x = {x_ch:.3f} and y = {y_ch:.3f} are not on this line')\n",
    "  print(f'Distance between startPoint and endPoint is {line.get_distance():.3f}')\n",
    "  print('==========')\n",
    "  print('Find value of y that gives( x , y ) on this line ')\n",
    "  x_ = float(input('Enter x : '))\n",
    "  y_ = line.getY(x_)\n",
    "  print(f'value of y is {y_:.3f}')\n",
    "  if y_!=-999.999:\n",
    "    print(f'( x , y ) = ( {x_:.3f} , {y_:.3f} ) on this line')\n",
    "  else:\n",
    "    print(f'( x , y ) = ( {x_:.3f} , {y_:.3f} ) is not on this line')\n"
   ]
  },
  {
   "cell_type": "markdown",
   "id": "3f940789",
   "metadata": {},
   "source": [
    "## 8.Student"
   ]
  },
  {
   "cell_type": "code",
   "execution_count": null,
   "id": "b3af1c9a",
   "metadata": {},
   "outputs": [],
   "source": [
    "class Student():\n",
    "    def __init__(self, id, firstname, lastname):\n",
    "        self.id = id\n",
    "        self.firstname = firstname\n",
    "        self.lastname = lastname\n",
    "        self.course = list()\n",
    "        self.num_course = 0\n",
    "        self.total_credit = 0\n",
    "        #self.advisor = Teacher()\n",
    "        #self.major = Major()\n",
    "\n",
    "    def set_advisor(self,obj):\n",
    "        self.advisor = obj\n",
    "    def set_major(self,obj):\n",
    "        self.major = obj\n",
    "\n",
    "    def add_course(self, course):\n",
    "        if course.code in self.course:\n",
    "            return False\n",
    "        elif self.total_credit + course.credit <= 25 and self.num_course<25:\n",
    "            self.course.append(course.code)\n",
    "            self.total_credit+=course.credit\n",
    "            self.num_course+=1\n",
    "            return True\n",
    "        else:\n",
    "            return False        \n",
    "        \n",
    "    def drop_course(self,course):\n",
    "        if course.code in self.course:\n",
    "            if len(self.course)==1:\n",
    "                self.course[0] = ''\n",
    "            else:\n",
    "                self.course.pop(self.course.index(course.code))\n",
    "            self.total_credit -= course.credit\n",
    "            self.num_course -=1\n",
    "            return True\n",
    "        else:\n",
    "            return False\n",
    "    def __str__(self):\n",
    "        return f\"Student ID: {self.id}\\nName: {self.firstname} {self.lastname}\\nMajor: {self.major.name} {self.major.faculty} ({self.major.id})\\nAdvisor: {self.advisor.firstname} {self.advisor.lastname} ({self.advisor.id})\\nCourses: {' '.join(self.course)}\"\n"
   ]
  },
  {
   "cell_type": "markdown",
   "id": "1cf5c1b8",
   "metadata": {},
   "source": [
    "## 9.Application"
   ]
  },
  {
   "cell_type": "code",
   "execution_count": null,
   "id": "b0e563d3",
   "metadata": {},
   "outputs": [],
   "source": [
    "class Application():\n",
    "    def print_money(dict_money):\n",
    "        for coin,amount in zip(dict_money.keys(),dict_money.values()):\n",
    "            print(f'You get {amount} of {coin}')\n",
    "    \n",
    "\n",
    "    def find_amount(money,bank_coin):\n",
    "        temp = dict()\n",
    "        for baht in bank_coin:\n",
    "            amount = money//baht.value\n",
    "            if amount != 0:\n",
    "                temp[baht] = amount\n",
    "                money -= baht.value*amount\n",
    "        return temp\n",
    "\n",
    "    bank_list = [1000,500,100,50,20]\n",
    "    coin_list = [10,5,2,1]\n",
    "    bank_coin_ex = dict()\n",
    "    bank_class = [Banknote(i) for i in bank_list]\n",
    "    coin_class = [Coin(i) for i in coin_list]\n",
    "    all_class = bank_class + coin_class\n",
    "    money = int(input('Input amount : '))\n",
    "    dict_money = find_amount(money,all_class)\n",
    "    print_money(dict_money)\n"
   ]
  },
  {
   "cell_type": "code",
   "execution_count": null,
   "id": "28d3fb90",
   "metadata": {},
   "outputs": [],
   "source": []
  }
 ],
 "metadata": {
  "kernelspec": {
   "display_name": "Python 3 (ipykernel)",
   "language": "python",
   "name": "python3"
  },
  "language_info": {
   "codemirror_mode": {
    "name": "ipython",
    "version": 3
   },
   "file_extension": ".py",
   "mimetype": "text/x-python",
   "name": "python",
   "nbconvert_exporter": "python",
   "pygments_lexer": "ipython3",
   "version": "3.9.13"
  }
 },
 "nbformat": 4,
 "nbformat_minor": 5
}
