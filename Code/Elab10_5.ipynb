{
 "cells": [
  {
   "cell_type": "markdown",
   "id": "5ae2da80",
   "metadata": {},
   "source": [
    "## 1."
   ]
  },
  {
   "cell_type": "code",
   "execution_count": null,
   "id": "d0704dc2",
   "metadata": {},
   "outputs": [],
   "source": [
    "n= int(input())\n",
    "score_list = list()\n",
    "for i in range(n):\n",
    "    row = [int(i) for i in input().strip().split(',')]\n",
    "    score_list.append(row)\n",
    "\n",
    "for i in range(n):\n",
    "    sum_out =  0\n",
    "    row = score_list[i]\n",
    "    for num in range(min(row),max(row)+1):\n",
    "        if not(num in row):\n",
    "            sum_out+=num \n",
    "    print(sum_out)"
   ]
  },
  {
   "cell_type": "markdown",
   "id": "321cc439",
   "metadata": {},
   "source": [
    "## 2."
   ]
  },
  {
   "cell_type": "code",
   "execution_count": null,
   "id": "6c0e548f",
   "metadata": {},
   "outputs": [],
   "source": [
    "n=int(input())\n",
    "for i in range(n):\n",
    "    s=str(input())\n",
    "    up = False\n",
    "    s_out = ''\n",
    "    for char in s:\n",
    "        if not(up) and char!=' ':\n",
    "            s_out+=char.upper()\n",
    "            up=True\n",
    "        elif up and char!=' ':\n",
    "            s_out+=char.lower()\n",
    "            up=False\n",
    "        else:\n",
    "            s_out+=char\n",
    "\n",
    "    print(s_out)"
   ]
  },
  {
   "cell_type": "markdown",
   "id": "fbe0f01d",
   "metadata": {},
   "source": [
    "## 3."
   ]
  },
  {
   "cell_type": "code",
   "execution_count": null,
   "id": "9314541c",
   "metadata": {},
   "outputs": [],
   "source": [
    "n=int(input())\n",
    "for i in range(n):\n",
    "    s=str(input())\n",
    "    s_fi = s[0:(len(s)//2)]\n",
    "    s_af = s[(len(s)//2):]\n",
    "    s_out = s_fi[::-1] + s_af[::-1]\n",
    "    print(s_out)"
   ]
  },
  {
   "cell_type": "markdown",
   "id": "a48bece6",
   "metadata": {},
   "source": [
    "## 4."
   ]
  },
  {
   "cell_type": "code",
   "execution_count": null,
   "id": "e63c3219",
   "metadata": {},
   "outputs": [],
   "source": [
    "s=str(input()).lower()\n",
    "value=0\n",
    "position = 0\n",
    "for i in range(len(s)):\n",
    "    if s[i] == ' ':\n",
    "        position=0\n",
    "        continue\n",
    "    al_num = ord(s[i]) - 97\n",
    "    value+=al_num+position\n",
    "    position += 1 \n",
    "\n",
    "print(value)"
   ]
  },
  {
   "cell_type": "markdown",
   "id": "b52863e9",
   "metadata": {},
   "source": [
    "## 6."
   ]
  },
  {
   "cell_type": "code",
   "execution_count": null,
   "id": "73f41b39",
   "metadata": {},
   "outputs": [],
   "source": [
    "n=int(input())\n",
    "his_list = list()\n",
    "for i in range(n):\n",
    "    k = int(input())\n",
    "    his_list.append(k)\n",
    "area_list = []\n",
    "count = 0\n",
    "for num in range(len(his_list)):\n",
    "    num_in = his_list[num]\n",
    "    while num_in!=0:\n",
    "        count = 0\n",
    "        for his in his_list[num:]:\n",
    "            if num_in <= his:\n",
    "                count+=1\n",
    "            else:\n",
    "                break\n",
    "        area_list.append(count*num_in)\n",
    "        num_in-=1\n",
    "\n",
    "print(max(area_list))"
   ]
  },
  {
   "cell_type": "markdown",
   "id": "d1980ac5",
   "metadata": {},
   "source": [
    "## 7."
   ]
  },
  {
   "cell_type": "code",
   "execution_count": null,
   "id": "db982837",
   "metadata": {},
   "outputs": [],
   "source": [
    "floors = [int(i) for i in input().split(' ')]\n",
    "start_floor = int(input())\n",
    "dis = 0\n",
    "while len(floors)>=1:\n",
    "    min_dis = 10000\n",
    "    for i in range(len(floors)):\n",
    "        if abs(start_floor - floors[i]) < min_dis:\n",
    "            min_dis = abs(start_floor - floors[i])\n",
    "            ind = i\n",
    "    dis += min_dis\n",
    "    start_floor = floors.pop(ind)\n",
    "\n",
    "print(dis)"
   ]
  },
  {
   "cell_type": "markdown",
   "id": "fc7fce96",
   "metadata": {},
   "source": [
    "## 8."
   ]
  },
  {
   "cell_type": "code",
   "execution_count": null,
   "id": "cf9ec798",
   "metadata": {},
   "outputs": [],
   "source": [
    "def find_dis(po1,po2):\n",
    "    dis = ((po1[0]-po2[0])**2 + (po1[1]-po2[1])**2)**(1/2)\n",
    "    return dis\n",
    "\n",
    "n = int(input())\n",
    "po_list = []\n",
    "for i in range(n):\n",
    "    x,y = input().split(' ')\n",
    "    x,y = int(x),int(y)\n",
    "    po_list.append((x,y))\n",
    "\n",
    "x,y = input().split(' ')\n",
    "point = int(x),int(y)\n",
    "k = int(input())\n",
    "\n",
    "dis_list = []\n",
    "\n",
    "for i in range(len(po_list)):\n",
    "    dis = find_dis(point,po_list[i])\n",
    "    dis_list.append(dis)\n",
    "\n",
    "dis_list = sorted(dis_list)\n",
    "for i in range(k):\n",
    "    print(f'{dis_list[i]:.2f}')\n"
   ]
  },
  {
   "cell_type": "markdown",
   "id": "51b49566",
   "metadata": {},
   "source": [
    "## 9."
   ]
  },
  {
   "cell_type": "code",
   "execution_count": null,
   "id": "537e427e",
   "metadata": {},
   "outputs": [],
   "source": [
    "s = str(input())\n",
    "s = s.split(',')\n",
    "out = ''\n",
    "for char in s:\n",
    "    s_out = '\"' + char.strip() + '\"' + ','\n",
    "    out += s_out\n",
    "\n",
    "print(out[:-1])"
   ]
  },
  {
   "cell_type": "markdown",
   "id": "8e40f0a8",
   "metadata": {},
   "source": [
    "## 10."
   ]
  },
  {
   "cell_type": "code",
   "execution_count": null,
   "id": "aae8d0f9",
   "metadata": {},
   "outputs": [],
   "source": [
    "score = {'A':1,'2':2,'3':3,'4':4,'5':5,'6':6,'7':7,'8':8,'9':9,'10':10,'J':10,'K':10,'Q':10}\n",
    "n = int(input())\n",
    "for i in range(n):\n",
    "    cards = [score[i] for i in input().split(' ')]\n",
    "    score_round = 0\n",
    "    busted = False\n",
    "    for ca in cards:\n",
    "        score_round+=ca\n",
    "        if score_round>21:\n",
    "            print('busted')\n",
    "            busted = True\n",
    "            break\n",
    "        elif score_round>16:\n",
    "            break\n",
    "    if not(busted):\n",
    "        print(score_round)"
   ]
  },
  {
   "cell_type": "markdown",
   "id": "9701d6ab",
   "metadata": {},
   "source": [
    "## 11."
   ]
  },
  {
   "cell_type": "code",
   "execution_count": null,
   "id": "114a7501",
   "metadata": {},
   "outputs": [],
   "source": [
    "import math\n",
    "damage = int(input())\n",
    "zombie_hp = [int(i) for i in input().split(' ')]\n",
    "ammo_list = []\n",
    "ammo = 0\n",
    "for hp in zombie_hp:\n",
    "    ammo += math.ceil(hp/damage)\n",
    "    ammo_list.append(str(ammo))\n",
    "\n",
    "print(ammo)\n",
    "print(' '.join(ammo_list))"
   ]
  },
  {
   "cell_type": "markdown",
   "id": "5b383b34",
   "metadata": {},
   "source": [
    "## 12."
   ]
  },
  {
   "cell_type": "code",
   "execution_count": null,
   "id": "08815e24",
   "metadata": {},
   "outputs": [],
   "source": [
    "def time_to_sec(time):\n",
    "    time_list = time.split(':')\n",
    "    return int(time_list[0])*60 + float(time_list[1])\n",
    "\n",
    "def sec_to_time(time):\n",
    "    if time-(int(time//60)*60) >= 10 :\n",
    "        time_out = f'{int(time//60)}:{time-(int(time//60)*60):.3f}'\n",
    "    else:\n",
    "        time_out = f'{int(time//60)}:0{time-(int(time//60)*60):.3f}'\n",
    "    return time_out\n",
    "\n",
    "\n",
    "time_list = []\n",
    "while True:\n",
    "    time = str(input())\n",
    "    if len(time) == 0:\n",
    "        break\n",
    "    time_list.append(time_to_sec(time))\n",
    "\n",
    "star = min(time_list)\n",
    "time_list_clear = [sec_to_time(i-star) for i in time_list]\n",
    "for time in time_list_clear:\n",
    "    print(time)"
   ]
  },
  {
   "cell_type": "markdown",
   "id": "d9f330af",
   "metadata": {},
   "source": [
    "## 13."
   ]
  },
  {
   "cell_type": "code",
   "execution_count": null,
   "id": "07585a6b",
   "metadata": {},
   "outputs": [],
   "source": [
    "s = str(input())\n",
    "ind = int(input())\n",
    "char = str(input())\n",
    "s_out = s[:ind] + char + s[ind+1:]\n",
    "\n",
    "print(s_out)"
   ]
  }
 ],
 "metadata": {
  "kernelspec": {
   "display_name": "Python 3 (ipykernel)",
   "language": "python",
   "name": "python3"
  },
  "language_info": {
   "codemirror_mode": {
    "name": "ipython",
    "version": 3
   },
   "file_extension": ".py",
   "mimetype": "text/x-python",
   "name": "python",
   "nbconvert_exporter": "python",
   "pygments_lexer": "ipython3",
   "version": "3.9.13"
  }
 },
 "nbformat": 4,
 "nbformat_minor": 5
}
