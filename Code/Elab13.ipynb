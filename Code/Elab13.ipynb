{
 "cells": [
  {
   "cell_type": "markdown",
   "id": "844ff18c",
   "metadata": {},
   "source": [
    "## 1.Dictionary Creation and Access"
   ]
  },
  {
   "cell_type": "markdown",
   "id": "4d3609c0",
   "metadata": {},
   "source": [
    "### Ex1"
   ]
  },
  {
   "cell_type": "code",
   "execution_count": null,
   "id": "07fefac0",
   "metadata": {},
   "outputs": [],
   "source": [
    "_dict = {'1441':'C+', '2001':'B', '3105':'A'}"
   ]
  },
  {
   "cell_type": "markdown",
   "id": "37b51463",
   "metadata": {},
   "source": [
    "### Ex2"
   ]
  },
  {
   "cell_type": "code",
   "execution_count": null,
   "id": "25a3f672",
   "metadata": {},
   "outputs": [],
   "source": [
    "pairs = [['a',1],['b',2],['m',13],['p',16],['z',26]]"
   ]
  },
  {
   "cell_type": "markdown",
   "id": "b4326989",
   "metadata": {},
   "source": [
    "### Ex3"
   ]
  },
  {
   "cell_type": "code",
   "execution_count": null,
   "id": "cc78c826",
   "metadata": {},
   "outputs": [],
   "source": [
    "scores['Zoe']\n",
    "roles['head']\n",
    "scores['Ken']\n",
    "roles['secretary']"
   ]
  },
  {
   "cell_type": "markdown",
   "id": "88ba3f04",
   "metadata": {},
   "source": [
    "### Ex4"
   ]
  },
  {
   "cell_type": "code",
   "execution_count": null,
   "id": "dbb98451",
   "metadata": {},
   "outputs": [],
   "source": [
    "scores['Ken'] = 87\n",
    "scores['Pat'] = 52\n",
    "scores['Grace'] = 91\n",
    "roles['member'] = 'Ken'\n",
    "roles['head'] = 'Pat'"
   ]
  },
  {
   "cell_type": "markdown",
   "id": "2f17dec1",
   "metadata": {},
   "source": [
    "## 3.Dictionary Iteration"
   ]
  },
  {
   "cell_type": "markdown",
   "id": "333e4fe8",
   "metadata": {},
   "source": [
    "### Ex1"
   ]
  },
  {
   "cell_type": "code",
   "execution_count": null,
   "id": "75b05ecd",
   "metadata": {},
   "outputs": [],
   "source": [
    "scores = {'Beth': 66, 'Nancy': 79, 'Pat': 82, 'Zoe': 57, 'Ken': 94}\n",
    "for key in scores:\n",
    "    print(key)   "
   ]
  },
  {
   "cell_type": "markdown",
   "id": "0f33bead",
   "metadata": {},
   "source": [
    "### Ex2"
   ]
  },
  {
   "cell_type": "code",
   "execution_count": null,
   "id": "8cc71c4c",
   "metadata": {},
   "outputs": [],
   "source": [
    "scores = {'Beth': 66, 'Nancy': 79, 'Pat': 82, 'Zoe': 57, 'Ken': 94}\n",
    "_sum = 0\n",
    "for value in scores.values():\n",
    "    print(value)\n",
    "    _sum+=value\n",
    "print(f'Sum of scores = {_sum}')"
   ]
  },
  {
   "cell_type": "markdown",
   "id": "fce21934",
   "metadata": {},
   "source": [
    "### Ex3"
   ]
  },
  {
   "cell_type": "code",
   "execution_count": null,
   "id": "0cf408da",
   "metadata": {},
   "outputs": [],
   "source": [
    "scores = {'Beth': 66, 'Nancy': 79, 'Pat': 82, 'Zoe': 57, 'Ken': 94}\n",
    "for key,value in scores.items():\n",
    "    print(f'{key} got score = {value}')"
   ]
  },
  {
   "cell_type": "markdown",
   "id": "3d893d3a",
   "metadata": {},
   "source": [
    "## 4.Dictionary Extraction"
   ]
  },
  {
   "cell_type": "code",
   "execution_count": null,
   "id": "076ff8cd",
   "metadata": {},
   "outputs": [],
   "source": [
    "s= dict()\n",
    "for key,value in _dict.items():\n",
    "    if key%100==0:\n",
    "        s[key] = value    \n",
    "print(s)"
   ]
  },
  {
   "cell_type": "markdown",
   "id": "128cf3bb",
   "metadata": {},
   "source": [
    "## 5.Simple Scores"
   ]
  },
  {
   "cell_type": "code",
   "execution_count": null,
   "id": "c4926926",
   "metadata": {},
   "outputs": [],
   "source": [
    "def get_input():\n",
    "    temp = dict()\n",
    "    while True:\n",
    "        name = input('Enter name: ')\n",
    "        if name == 'Q':\n",
    "            break\n",
    "        else:\n",
    "            score = float(input('Enter scores: '))\n",
    "            temp[name] = score\n",
    "    return temp\n",
    "\n",
    "def main():\n",
    "    data = get_input()\n",
    "    print(data)\n",
    "    is_below_60 = False\n",
    "    below = list()\n",
    "    for student in data:\n",
    "        score = data[student]\n",
    "        print(f'{student} got {score:.2f}')\n",
    "        if score<60:\n",
    "            is_below_60 =True\n",
    "            below.append(score)\n",
    "    if is_below_60:\n",
    "        av = sum(below)/len(below)\n",
    "        print(f'Average scores of students who got below 60 = {av:.2f}')\n",
    "    else:\n",
    "        print('No one got below 60.')\n",
    "main()"
   ]
  },
  {
   "cell_type": "markdown",
   "id": "c9844b36",
   "metadata": {},
   "source": [
    "## 6.Count All Characters"
   ]
  },
  {
   "cell_type": "code",
   "execution_count": null,
   "id": "125cba24",
   "metadata": {},
   "outputs": [],
   "source": [
    "def str_count(s):\n",
    "    temp = dict()\n",
    "    for char in s:\n",
    "        if char == ' ':\n",
    "            pass\n",
    "        elif not(char in temp):\n",
    "            temp[char] = 1\n",
    "        else:\n",
    "            temp[char]+=1\n",
    "    return temp\n",
    "\n",
    "def main():\n",
    "    s = input('Enter text: ')\n",
    "    _dict = str_count(s)\n",
    "    print(_dict)\n",
    "    for key,value in _dict.items():\n",
    "        print(f'There are {value} {key}\\'s')\n",
    "\n",
    "main()"
   ]
  },
  {
   "cell_type": "markdown",
   "id": "1089705e",
   "metadata": {},
   "source": [
    "## 7.Similar Operations to List"
   ]
  },
  {
   "cell_type": "markdown",
   "id": "bb29b464",
   "metadata": {},
   "source": [
    "### Ex1"
   ]
  },
  {
   "cell_type": "raw",
   "id": "3cc55cbc",
   "metadata": {},
   "source": [
    "True\n",
    "False\n",
    "True\n",
    "False\n",
    "True"
   ]
  },
  {
   "cell_type": "markdown",
   "id": "ae656346",
   "metadata": {},
   "source": [
    "### Ex2"
   ]
  },
  {
   "cell_type": "code",
   "execution_count": null,
   "id": "7500117f",
   "metadata": {},
   "outputs": [],
   "source": [
    "scores = {'Beth': 66, 'Nancy': 79, 'Pat': 82, 'Zoe': 57, 'Ken': 94}\n",
    "doubles = {100: 200, 250: 500, 300: 600, 700: 1400}\n",
    "breakfast = {1: 'milk and bread', 2: 'peanut butter and jelly', 3: 'egg and sausage'}\n",
    "len(doubles)\n",
    "len(scores)\n",
    "len(breakfast)"
   ]
  },
  {
   "cell_type": "markdown",
   "id": "1425a8ca",
   "metadata": {},
   "source": [
    "### Ex3"
   ]
  },
  {
   "cell_type": "code",
   "execution_count": null,
   "id": "5f4087e9",
   "metadata": {},
   "outputs": [],
   "source": [
    "classroom_floors = {x:f'floor{3}' for x in floor3_rooms.keys()}\n",
    "class4_year_rooms = {'4/4': 'year4', '4/5': 'year4'}\n",
    "class5_year_rooms = {'5/1': 'year5', '5/2': 'year5', '5/3': 'year5'}\n",
    "left_wings = {i:key for i,key in zip(range(1,4),classroom_floors)}\n",
    "right_wings = {i:key for i,key in zip(range(4,6),list(classroom_floors.keys())[3:])}"
   ]
  },
  {
   "cell_type": "markdown",
   "id": "3fd00506",
   "metadata": {},
   "source": [
    "### Ex4"
   ]
  },
  {
   "cell_type": "code",
   "execution_count": null,
   "id": "1d6b1d5c",
   "metadata": {},
   "outputs": [],
   "source": [
    "scores2 = scores.copy()\n",
    "scores3 = scores"
   ]
  },
  {
   "cell_type": "markdown",
   "id": "5990e6cc",
   "metadata": {},
   "source": [
    "## 8.Cloth Size"
   ]
  },
  {
   "cell_type": "code",
   "execution_count": null,
   "id": "0902c462",
   "metadata": {},
   "outputs": [],
   "source": [
    "def cloth_size(width_list):\n",
    "    temp = {'S':0,'M':0,'L':0}\n",
    "    for width in width_list:\n",
    "        if width<=36:\n",
    "            temp['S']+=1\n",
    "        elif width>36 and width<=44:\n",
    "            temp['M']+=1\n",
    "        elif width>44:\n",
    "            temp['L']+=1\n",
    "    return temp"
   ]
  },
  {
   "cell_type": "markdown",
   "id": "9a10ddf1",
   "metadata": {},
   "source": [
    "## 9.Count English Characters"
   ]
  },
  {
   "cell_type": "code",
   "execution_count": null,
   "id": "0ea9b407",
   "metadata": {},
   "outputs": [],
   "source": [
    "def count_char(word):\n",
    "    temp = dict()\n",
    "    for char in word:\n",
    "        char = char.lower()\n",
    "        if 'a'<=char<='z' or 'A'<=char<='Z':\n",
    "            if char in temp.keys():\n",
    "                temp[char]+=1\n",
    "            else:\n",
    "                temp[char]=1\n",
    "    return temp"
   ]
  },
  {
   "cell_type": "markdown",
   "id": "54495a48",
   "metadata": {},
   "source": [
    "## 10.Count Word"
   ]
  },
  {
   "cell_type": "code",
   "execution_count": null,
   "id": "55f4d8a7",
   "metadata": {},
   "outputs": [],
   "source": [
    "def count_words(s):\n",
    "    s_word = s.split(' ')\n",
    "    temp = dict()\n",
    "    for word in s_word:\n",
    "        if not(word in temp):\n",
    "            temp[word]=1\n",
    "        else:\n",
    "            temp[word]+=1\n",
    "    return temp"
   ]
  },
  {
   "cell_type": "markdown",
   "id": "c38fc0bc",
   "metadata": {},
   "source": [
    "## 11.Bid"
   ]
  },
  {
   "cell_type": "code",
   "execution_count": null,
   "id": "fb2121c5",
   "metadata": {},
   "outputs": [],
   "source": [
    "def print_name(s_dict):\n",
    "    name_sort = sorted(s_dict.keys())\n",
    "    for name in name_sort:\n",
    "        price,time = s_dict.get(name)[0],s_dict.get(name)[1]\n",
    "        if time > 1:\n",
    "            print(f'{name} bid at the price of {price:.1f} baht in {time} times.')\n",
    "        else:\n",
    "            print(f'{name} bid at the price of {price:.1f} baht in {time} time.')\n",
    "\n",
    "def main():\n",
    "    price_max = 0\n",
    "    bid_dict = dict()\n",
    "    price_max_name = ''\n",
    "    while True:\n",
    "        bid = input()\n",
    "        if bid == 'end':\n",
    "            print_name(bid_dict)\n",
    "            print(f'The winner is {price_max_name}.')\n",
    "            break\n",
    "        else:\n",
    "            name,price = bid.split(' ')\n",
    "            if name in bid_dict.keys():\n",
    "                time = bid_dict[name][1] + 1\n",
    "                price = max(int(price),bid_dict[name][0])\n",
    "                bid_dict[name] = [int(price),time]\n",
    "            else:\n",
    "                bid_dict[name] = list((int(price),1))\n",
    "            if int(price) > price_max:\n",
    "                price_max = int(price)\n",
    "                price_max_name = name\n",
    "\n",
    "main()"
   ]
  },
  {
   "cell_type": "markdown",
   "id": "b49cdb36",
   "metadata": {},
   "source": [
    "## 12."
   ]
  },
  {
   "cell_type": "code",
   "execution_count": null,
   "id": "7b8a762e",
   "metadata": {},
   "outputs": [],
   "source": [
    "def get_input():\n",
    "    print('Enter variables and values:')\n",
    "    temp = dict()\n",
    "    while True:\n",
    "        k = input()\n",
    "        if k=='-1':\n",
    "            break\n",
    "        var,equ,valu = k.split(' ')\n",
    "        temp[var] = valu\n",
    "    return temp\n",
    "\n",
    "def get_program():\n",
    "    print('Enter your program:')\n",
    "    temp = list()\n",
    "    while True:\n",
    "        k = input()\n",
    "        if k=='-1':\n",
    "            break\n",
    "        else:\n",
    "            temp.append(k)\n",
    "    return temp\n",
    "\n",
    "def print_result(var_dict,program_list):\n",
    "    print('Result:')\n",
    "    k=''\n",
    "    for program in program_list:\n",
    "        s= ''\n",
    "        i=0\n",
    "        while i < len(program):\n",
    "            if program[i] == '{':\n",
    "                i+=1\n",
    "                _key = ''\n",
    "                while program[i]!='}':\n",
    "                    _key+=program[i]\n",
    "                    i+=1\n",
    "                valu = var_dict.get(_key)\n",
    "                s+=valu\n",
    "            else:\n",
    "                s+=program[i]\n",
    "            i+=1\n",
    "        print(s)\n",
    "\n",
    "def main():\n",
    "    var_dict = get_input()\n",
    "    program_list = get_program()\n",
    "    print_result(var_dict,program_list)\n",
    "\n",
    "main()"
   ]
  },
  {
   "cell_type": "markdown",
   "id": "98e1e2f0",
   "metadata": {},
   "source": [
    "## 13.Chemical Formula (version 2)"
   ]
  },
  {
   "cell_type": "code",
   "execution_count": null,
   "id": "6f467b91",
   "metadata": {},
   "outputs": [],
   "source": [
    "def find_ele(all_ele):\n",
    "    s=all_ele\n",
    "    temp = dict()\n",
    "    ele = ''\n",
    "    i=0\n",
    "    while i < len(s):\n",
    "        if 'A'<=s[i]<='Z':\n",
    "            ele=s[i]\n",
    "            i+=1\n",
    "            try:\n",
    "                s[i]\n",
    "            except:\n",
    "                break\n",
    "            k=''\n",
    "            while 'a'<=s[i]<='z' or s[i].isdigit():\n",
    "                if s[i].isalpha():\n",
    "                    ele+=s[i]\n",
    "                elif s[i].isdigit():\n",
    "                    k+=s[i]\n",
    "                i+=1\n",
    "                try:\n",
    "                    s[i]\n",
    "                except:\n",
    "                    break\n",
    "            if k!='':\n",
    "                if ele in temp.keys():\n",
    "                    temp[ele]+=1\n",
    "                    ele = ''\n",
    "                else:\n",
    "                    temp[ele] = int(k)\n",
    "                    ele = ''\n",
    "            else:\n",
    "                if ele in temp.keys():\n",
    "                    temp[ele]+=1\n",
    "                    ele = ''\n",
    "                else:\n",
    "                    temp[ele]=1\n",
    "                    ele = ''\n",
    "    if ele != '':\n",
    "        temp[ele] = 1\n",
    "    return temp\n",
    "    \n",
    "def main():\n",
    "    all_ele = input()\n",
    "    target = input()\n",
    "    ele_dict = find_ele(all_ele)\n",
    "    nu = ele_dict.get(target,0)\n",
    "    print(nu)\n",
    "main()"
   ]
  },
  {
   "cell_type": "markdown",
   "id": "20b8900d",
   "metadata": {},
   "source": [
    "## 14.L13 Dictionary"
   ]
  },
  {
   "cell_type": "code",
   "execution_count": null,
   "id": "7614ac84",
   "metadata": {},
   "outputs": [],
   "source": [
    "def main():\n",
    "    dictionary = {'arm':['n','แขน'],\n",
    "                  'handsome':['adj','หล่อ'],\n",
    "                  'toilet':['n','ห้องน้ำ'],\n",
    "                  'beautiful':['adj','สวย'],\n",
    "                  'hello':['v','สวัสดี'],\n",
    "                  'kick':['v','เตะ']\n",
    "                  }\n",
    "    while True:\n",
    "        word = input()\n",
    "        if word == '0':\n",
    "            break\n",
    "        elif word in dictionary.keys():\n",
    "            while True:\n",
    "                op = int(input())\n",
    "                if op==1 or op==2:\n",
    "                    print(dictionary[word][op-1])\n",
    "                    break\n",
    "                else:\n",
    "                    print('Invalid option.')\n",
    "        else:\n",
    "            print('Word not in dictionary.')\n",
    "                \n",
    "main()"
   ]
  },
  {
   "cell_type": "markdown",
   "id": "cd37ab63",
   "metadata": {},
   "source": [
    "## 15.L13 substring"
   ]
  },
  {
   "cell_type": "code",
   "execution_count": null,
   "id": "baeb72d5",
   "metadata": {},
   "outputs": [],
   "source": [
    "def main():\n",
    "    text = input('Text: ')\n",
    "    sub = input('Substring: ')\n",
    "    i=0\n",
    "    s= ''\n",
    "    for_p = ''\n",
    "    combo = 0\n",
    "    if sub in text:\n",
    "        for char in text:\n",
    "            if char==sub[combo]:\n",
    "                for_p+=char\n",
    "                combo+=1\n",
    "                if combo==len(sub):\n",
    "                    combo=0\n",
    "                    s += '[' + for_p +']'\n",
    "                    for_p = ''\n",
    "            else:\n",
    "                combo=0\n",
    "                s += for_p + char\n",
    "                for_p = ''\n",
    "        s+=for_p\n",
    "        print(s)\n",
    "    else:\n",
    "        print('Not found')\n",
    "    \n",
    "main()"
   ]
  },
  {
   "cell_type": "markdown",
   "id": "e4d5ae36",
   "metadata": {},
   "source": [
    "## 16.L13 substring2"
   ]
  },
  {
   "cell_type": "code",
   "execution_count": null,
   "id": "728a78f6",
   "metadata": {},
   "outputs": [],
   "source": [
    "def sub1(text,sub):\n",
    "    i=0\n",
    "    s= ''\n",
    "    for_p = ''\n",
    "    combo = 0\n",
    "    if sub in text:\n",
    "        for char in text:\n",
    "            if char==sub[combo]:\n",
    "                for_p+=char\n",
    "                combo+=1\n",
    "                if combo==len(sub):\n",
    "                    combo=0\n",
    "                    s += '[' + for_p +']'\n",
    "                    for_p = ''\n",
    "            else:\n",
    "                combo=0\n",
    "                s += for_p + char\n",
    "                for_p = ''\n",
    "        s+=for_p\n",
    "        return s,True\n",
    "    else:\n",
    "        return text,False\n",
    "\n",
    "def sub2(text,sub):\n",
    "    length = len(sub)\n",
    "    to_pass = length-1\n",
    "    to_push = length+2    \n",
    "    s=''\n",
    "    i=0\n",
    "    while True:\n",
    "        combo = 0\n",
    "        k = text[i:i+length]\n",
    "        if len(k) == length:\n",
    "            for j in range(length):\n",
    "                if k[j]==sub[j]:\n",
    "                    combo+=1\n",
    "            if combo>=to_pass:\n",
    "                to_s = ''\n",
    "                for j in range(length):\n",
    "                    if k[j] == sub[j]:\n",
    "                        to_s+=k[j]\n",
    "                    else:\n",
    "                        to_s+='?'\n",
    "                s+='[' + to_s +']'\n",
    "                i += to_push\n",
    "                text = s + text[i-2:]\n",
    "            else:\n",
    "                s+=text[i]\n",
    "                i+=1\n",
    "                text = s + text[i:]\n",
    "        else:\n",
    "            break\n",
    "        if i == len(text):\n",
    "            break\n",
    "    print(text)\n",
    "\n",
    "def main():\n",
    "    text = input('Text: ')\n",
    "    sub = input('Substring: ')\n",
    "    text,isfound = sub1(text,sub)\n",
    "    if isfound:\n",
    "        print(text)\n",
    "    else:\n",
    "        text = sub2(text,sub)\n",
    "\n",
    "main()"
   ]
  },
  {
   "cell_type": "markdown",
   "id": "97a18ba5",
   "metadata": {},
   "source": [
    "## 17.L13 protein_biosynthesis"
   ]
  },
  {
   "cell_type": "code",
   "execution_count": null,
   "id": "08fa5bc9",
   "metadata": {},
   "outputs": [],
   "source": [
    "def transcription(dna):\n",
    "    rna = ''\n",
    "    temp = {'A':'U',\n",
    "            'C':'G',\n",
    "            'G':'C',\n",
    "            'T':'A'\n",
    "            }\n",
    "    for base in dna:\n",
    "        rna+=temp.get(base)\n",
    "    return rna\n",
    "\n",
    "def translation(rna):\n",
    "    start = rna.index('AUG')\n",
    "    stop_codon = ['UAA','UGA','UAG']\n",
    "    namino = 1\n",
    "    while True:\n",
    "        amino = rna[start+3:start+6]\n",
    "        if not(amino in stop_codon):\n",
    "            namino+=1\n",
    "            start+=3\n",
    "        else:\n",
    "            break\n",
    "    return namino\n",
    "\n",
    "def main():\n",
    "    dna = input('DNA: ')\n",
    "    rna = transcription(dna)\n",
    "    print(translation(rna),'Amino acid(s)')\n",
    "\n",
    "main()"
   ]
  },
  {
   "cell_type": "markdown",
   "id": "8ca59b45",
   "metadata": {},
   "source": [
    "## 18.L13 Jong Tao"
   ]
  },
  {
   "cell_type": "code",
   "execution_count": null,
   "id": "a3ec56f6",
   "metadata": {},
   "outputs": [],
   "source": [
    "class Flight():\n",
    "    all_flight=dict()\n",
    "    def __init__(self,id,wh_ton,wh_des,ncus,limitcus):\n",
    "        self.id = id\n",
    "        self.wh_ton = wh_ton\n",
    "        self.wh_des = wh_des\n",
    "        self.ncus = int(ncus)\n",
    "        self.limitcus = int(limitcus)\n",
    "        self.cus = list()\n",
    "        Flight.all_flight[id] = self\n",
    "    \n",
    "    def __str__(self):\n",
    "        return f'{self.id} is from {self.wh_ton} to {self.wh_des}, number of people booking is {self.ncus}/{self.limitcus}'\n",
    "\n",
    "    def add_cus(self,name_cus):\n",
    "        if self.ncus < self.limitcus:\n",
    "            self.ncus+=1\n",
    "            Customer(name_cus,self.id)\n",
    "            return True\n",
    "        else:\n",
    "            return False\n",
    "    \n",
    "    def find(id_flight):\n",
    "        return Flight.all_flight.get(id_flight,None)\n",
    "    def add_flight():\n",
    "        s_in = input('Add data : ').split('->')\n",
    "        data = [i.strip() for i in s_in]\n",
    "        ton_flight,des_flight = data[0],data[1]\n",
    "        id_ton,wh_ton = ton_flight.split(' ')\n",
    "        wh_des,ncus,limitcus = des_flight.split(' ')[0],des_flight.split(' ')[1],des_flight.split(' ')[3]\n",
    "        Flight(id_ton,wh_ton,wh_des,ncus,limitcus)\n",
    "\n",
    "class Customer():\n",
    "    cus_dict = dict()\n",
    "    def __init__(self,name,id_flight='') -> None:\n",
    "        if name in Customer.cus_dict:\n",
    "            Customer.cus_dict[name].append(id_flight)\n",
    "        else:\n",
    "            Customer.cus_dict[name] = [id_flight]\n",
    "    @staticmethod\n",
    "    def find_cus(name):\n",
    "        s = Customer.cus_dict.get(name,None)\n",
    "        return ' '.join(s)\n",
    "\n",
    "def main():\n",
    "    print('''Select menu :\n",
    "1. add flight data\n",
    "2. flight data by code\n",
    "3. show all flight data\n",
    "4. flight booking\n",
    "5. show people flight data\n",
    "6. exit''')\n",
    "    while True:\n",
    "        op = int(input('menu : '))\n",
    "        if op ==1:\n",
    "            Flight.add_flight()\n",
    "        if op ==2:\n",
    "            id_flight = input('Enter code : ')\n",
    "            flight_want = Flight.find(id_flight)\n",
    "            print(flight_want)\n",
    "        if op ==3:\n",
    "            print('All flight data')\n",
    "            for flight in Flight.all_flight.values():\n",
    "                print(flight)\n",
    "        if op ==4:\n",
    "            name_cus = input('Enter your name : ')\n",
    "            id_flight = input('Enter flight code : ')\n",
    "            flight_want = Flight.find(id_flight)\n",
    "            if flight_want.add_cus(name_cus):\n",
    "                print('Success')\n",
    "            else:\n",
    "                print('The flight is full, Sorry')\n",
    "        if op ==5:\n",
    "            name_cus = input('Enter your name : ')\n",
    "            print(f'{name_cus} is booking flight code = {Customer.find_cus(name_cus)}')\n",
    "        if op ==6:\n",
    "            print('EXIT!!!!!!!!!!!!!!!')\n",
    "            break\n",
    "main()"
   ]
  },
  {
   "cell_type": "markdown",
   "id": "ad7754ae",
   "metadata": {},
   "source": [
    "## 19.L13 sibling"
   ]
  },
  {
   "cell_type": "code",
   "execution_count": null,
   "id": "3ff95f78",
   "metadata": {},
   "outputs": [],
   "source": [
    "def get_input():\n",
    "    n=int(input())\n",
    "    temp = dict()\n",
    "    for i in range(n):\n",
    "        s = input()\n",
    "        l1,_i,relation,_of,l2 = s.split(' ')\n",
    "        if l2 in temp.keys():\n",
    "            temp[l2][relation] = l1\n",
    "        else:\n",
    "            temp[l2] = dict()\n",
    "            temp[l2][relation] = l1\n",
    "    return temp\n",
    "\n",
    "def check_sibling(data):\n",
    "    _ask,l1,_and,l2,_are,_bibling = input().split(' ')\n",
    "    if l1 in data.keys() and l2 in data.keys():\n",
    "        mo_l1,fa_l1 = data[l1].get('mother',None),data[l1].get('father',None)\n",
    "        mo_l2,fa_l2 = data[l2].get('mother',None),data[l2].get('father',None)\n",
    "        rel_l1 = [mo_l1,fa_l1]\n",
    "        rel_l2 = [mo_l2,fa_l2]\n",
    "        for rel in rel_l1:\n",
    "            if rel in rel_l2 and rel!=None:\n",
    "                return True\n",
    "    return False\n",
    "\n",
    "data= get_input()\n",
    "if check_sibling(data):\n",
    "    print('Yes')\n",
    "else:\n",
    "    print('No')"
   ]
  },
  {
   "cell_type": "markdown",
   "id": "7ad43361",
   "metadata": {},
   "source": [
    "## 20.L13 cross_box"
   ]
  },
  {
   "cell_type": "code",
   "execution_count": null,
   "id": "e810c876",
   "metadata": {},
   "outputs": [],
   "source": [
    "def print_crossbox(n):\n",
    "    print('.'*n)\n",
    "    for i in range((n//2)-1):\n",
    "        print('.'+' '*i+'.'+' '*(n-4-(2*i))+'.'+' '*i+'.')\n",
    "\n",
    "    print('.'   +    ' '*((n//2)-1)   +'.'    +   ' '*(n//2-1)    +   '.')\n",
    "\n",
    "    for i in range((n//2)-1):\n",
    "        print('.'+' '*(((n-1)//2)-2-i)+'.'+' '*(2*i+1)+'.'+' '*(((n-1)//2)-2-i)+'.')\n",
    "    print('.'*n)\n",
    "\n",
    "n=int(input())\n",
    "print_crossbox(n)"
   ]
  }
 ],
 "metadata": {
  "kernelspec": {
   "display_name": "Python 3 (ipykernel)",
   "language": "python",
   "name": "python3"
  },
  "language_info": {
   "codemirror_mode": {
    "name": "ipython",
    "version": 3
   },
   "file_extension": ".py",
   "mimetype": "text/x-python",
   "name": "python",
   "nbconvert_exporter": "python",
   "pygments_lexer": "ipython3",
   "version": "3.9.13"
  }
 },
 "nbformat": 4,
 "nbformat_minor": 5
}
